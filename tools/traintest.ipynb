{
 "cells": [
  {
   "cell_type": "code",
   "execution_count": 1,
   "metadata": {},
   "outputs": [
    {
     "name": "stderr",
     "output_type": "stream",
     "text": [
      "/home/leejaehyeok/.local/lib/python3.8/site-packages/tqdm/auto.py:22: TqdmWarning: IProgress not found. Please update jupyter and ipywidgets. See https://ipywidgets.readthedocs.io/en/stable/user_install.html\n",
      "  from .autonotebook import tqdm as notebook_tqdm\n"
     ]
    }
   ],
   "source": [
    "from loguru import logger\n",
    "\n",
    "import torch\n",
    "import torch.backends.cudnn as cudnn\n",
    "\n",
    "from yolox.core import Trainer, launch\n",
    "from yolox.exp import get_exp\n",
    "\n",
    "import argparse\n",
    "import random\n",
    "import warnings"
   ]
  },
  {
   "cell_type": "code",
   "execution_count": 4,
   "metadata": {},
   "outputs": [],
   "source": [
    "def make_parser():\n",
    "    parser = argparse.ArgumentParser(\"YOLOX train parser\")\n",
    "    parser.add_argument(\"-expn\", \"--experiment-name\", type=str, default=None)\n",
    "    parser.add_argument(\"-n\", \"--name\", type=str, default=None, help=\"model name\")\n",
    "\n",
    "    # distributed\n",
    "    parser.add_argument(\n",
    "        \"--dist-backend\", default=\"nccl\", type=str, help=\"distributed backend\"\n",
    "    )\n",
    "    parser.add_argument(\n",
    "        \"--dist-url\",\n",
    "        default=None,\n",
    "        type=str,\n",
    "        help=\"url used to set up distributed training\",\n",
    "    )\n",
    "    parser.add_argument(\"-b\", \"--batch-size\", type=int, default=64, help=\"batch size\")\n",
    "    parser.add_argument(\n",
    "        \"-d\", \"--devices\", default=None, type=int, help=\"device for training\"\n",
    "    )\n",
    "    parser.add_argument(\n",
    "        \"--local_rank\", default=0, type=int, help=\"local rank for dist training\"\n",
    "    )\n",
    "    parser.add_argument(\n",
    "        \"-f\",\n",
    "        \"--exp_file\",\n",
    "        default=None,\n",
    "        type=str,\n",
    "        help=\"plz input your expriment description file\",\n",
    "    )\n",
    "    parser.add_argument(\n",
    "        \"--resume\", default=False, action=\"store_true\", help=\"resume training\"\n",
    "    )\n",
    "    parser.add_argument(\"-c\", \"--ckpt\", default=None, type=str, help=\"checkpoint file\")\n",
    "    parser.add_argument(\n",
    "        \"-e\",\n",
    "        \"--start_epoch\",\n",
    "        default=None,\n",
    "        type=int,\n",
    "        help=\"resume training start epoch\",\n",
    "    )\n",
    "    parser.add_argument(\n",
    "        \"--num_machines\", default=1, type=int, help=\"num of node for training\"\n",
    "    )\n",
    "    parser.add_argument(\n",
    "        \"--machine_rank\", default=0, type=int, help=\"node rank for multi-node training\"\n",
    "    )\n",
    "    parser.add_argument(\n",
    "        \"--fp16\",\n",
    "        dest=\"fp16\",\n",
    "        default=True,\n",
    "        action=\"store_true\",\n",
    "        help=\"Adopting mix precision training.\",\n",
    "    )\n",
    "    parser.add_argument(\n",
    "        \"-o\",\n",
    "        \"--occupy\",\n",
    "        dest=\"occupy\",\n",
    "        default=False,\n",
    "        action=\"store_true\",\n",
    "        help=\"occupy GPU memory first for training.\",\n",
    "    )\n",
    "    parser.add_argument(\n",
    "        \"opts\",\n",
    "        help=\"Modify config options using the command-line\",\n",
    "        default=None,\n",
    "        nargs=argparse.REMAINDER,\n",
    "    )\n",
    "    return parser\n",
    "# jupyter로 parser를 쓸때는 parse_args에 args=[] 인자를 추가해야함\n",
    "args = make_parser().parse_args(args=[])"
   ]
  },
  {
   "cell_type": "code",
   "execution_count": 6,
   "metadata": {},
   "outputs": [],
   "source": [
    "@logger.catch\n",
    "def main(exp, args):\n",
    "    if exp.seed is not None:\n",
    "        random.seed(exp.seed)\n",
    "        torch.manual_seed(exp.seed)\n",
    "        cudnn.deterministic = True\n",
    "        warnings.warn(\n",
    "            \"You have chosen to seed training. This will turn on the CUDNN deterministic setting, \"\n",
    "            \"which can slow down your training considerably! You may see unexpected behavior \"\n",
    "            \"when restarting from checkpoints.\"\n",
    "        )\n",
    "\n",
    "    # set environment variables for distributed training\n",
    "    cudnn.benchmark = True\n",
    "\n",
    "    trainer = Trainer(exp, args)\n",
    "    trainer.train()\n"
   ]
  },
  {
   "cell_type": "code",
   "execution_count": 32,
   "metadata": {},
   "outputs": [
    {
     "name": "stdout",
     "output_type": "stream",
     "text": [
      "None\n"
     ]
    },
    {
     "data": {
      "text/plain": [
       "<torch._C.Generator at 0x7f603c0b3990>"
      ]
     },
     "execution_count": 32,
     "metadata": {},
     "output_type": "execute_result"
    }
   ],
   "source": [
    "exp = get_exp(args.exp_file, args.name)\n",
    "exp.merge(args.opts)\n",
    "\n",
    "if not args.experiment_name:\n",
    "    args.experiment_name = exp.exp_name\n",
    "\n",
    "num_gpu = torch.cuda.device_count() if args.devices is None else args.devices\n",
    "assert num_gpu <= torch.cuda.device_count()\n",
    "\n",
    "launch(\n",
    "    main,\n",
    "    num_gpu,\n",
    "    args.num_machines,\n",
    "    args.machine_rank,\n",
    "    backend=args.dist_backend,\n",
    "    dist_url=args.dist_url,\n",
    "    args=(exp, args),\n",
    ")\n"
   ]
  },
  {
   "cell_type": "code",
   "execution_count": null,
   "metadata": {},
   "outputs": [],
   "source": []
  }
 ],
 "metadata": {
  "kernelspec": {
   "display_name": "Python 3.8.13 ('ocsort')",
   "language": "python",
   "name": "python3"
  },
  "language_info": {
   "codemirror_mode": {
    "name": "ipython",
    "version": 3
   },
   "file_extension": ".py",
   "mimetype": "text/x-python",
   "name": "python",
   "nbconvert_exporter": "python",
   "pygments_lexer": "ipython3",
   "version": "3.8.13"
  },
  "orig_nbformat": 4,
  "vscode": {
   "interpreter": {
    "hash": "58b5af387b408301e40b17abed398f3fe69be9f57d3886029e3eb73eb8d2220d"
   }
  }
 },
 "nbformat": 4,
 "nbformat_minor": 2
}
