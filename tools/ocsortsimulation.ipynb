{
 "cells": [
  {
   "cell_type": "code",
   "execution_count": 1,
   "metadata": {},
   "outputs": [
    {
     "name": "stderr",
     "output_type": "stream",
     "text": [
      "/home/leejaehyeok/.local/lib/python3.8/site-packages/tqdm/auto.py:22: TqdmWarning: IProgress not found. Please update jupyter and ipywidgets. See https://ipywidgets.readthedocs.io/en/stable/user_install.html\n",
      "  from .autonotebook import tqdm as notebook_tqdm\n"
     ]
    }
   ],
   "source": [
    "from trackers.ocsort_tracker.association import *\n",
    "import numpy as np\n",
    "from __future__ import print_function\n",
    "import torch\n",
    "import cv2"
   ]
  },
  {
   "cell_type": "code",
   "execution_count": 2,
   "metadata": {},
   "outputs": [],
   "source": [
    "img_file = '/home/leejaehyeok/trackingProject/ocsort/OC_SORT/samplepeople.jpg'\n",
    "x = cv2.imread(img_file)\n",
    "#사진의 최종 tensor (postprocess 이후 값, shape=(N, 7))\n",
    "output = [[192.0702,  31.2105, 328.1173, 393.1645,   0.9985,   0.9805,   0.0000],\n",
    "        [ 26.8002,  26.0286, 146.0435, 388.6902,   0.9966,   0.9814,   0.0000],\n",
    "        [ 16.3157, 409.7150, 127.1375, 798.0350,   0.9990,   0.9790,   0.0000],\n",
    "        [196.9685, 414.3482, 330.9065, 795.9019,   0.9980,   0.9795,   0.0000],\n",
    "        [391.8076,  14.7951, 505.0361, 394.8612,   0.9990,   0.9785,   0.0000],\n",
    "        [386.4258, 419.2980, 487.8242, 795.6707,   0.9995,   0.9766,   0.0000],\n",
    "        [577.7744,  21.5551, 681.8818, 388.4917,   0.9985,   0.9766,   0.0000],\n",
    "        [554.2709, 404.1043, 687.1666, 800.0832,   0.9990,   0.9707,   0.0000]]\n",
    "output = torch.Tensor(output).to(torch.device('cuda:0'))"
   ]
  },
  {
   "cell_type": "code",
   "execution_count": 3,
   "metadata": {},
   "outputs": [],
   "source": [
    "def k_previous_obs(observations, cur_age, k):\n",
    "    if len(observations) == 0:\n",
    "        return [-1, -1, -1, -1, -1]\n",
    "    for i in range(k):\n",
    "        dt = k - i\n",
    "        if cur_age - dt in observations:\n",
    "            return observations[cur_age-dt]\n",
    "    max_age = max(observations.keys())\n",
    "    return observations[max_age]\n",
    "\n",
    "def convert_bbox_to_z(bbox):\n",
    "    \"\"\"\n",
    "    Takes a bounding box in the form [x1,y1,x2,y2] and returns z in the form\n",
    "      [x,y,s,r] where x,y is the centre of the box and s is the scale/area and r is\n",
    "      the aspect ratio\n",
    "    \"\"\"\n",
    "    w = bbox[2] - bbox[0]\n",
    "    h = bbox[3] - bbox[1]\n",
    "    x = bbox[0] + w/2.\n",
    "    y = bbox[1] + h/2.\n",
    "    s = w * h  # scale is just area\n",
    "    r = w / float(h+1e-6)\n",
    "    return np.array([x, y, s, r]).reshape((4, 1))\n",
    "\n",
    "\n",
    "def convert_x_to_bbox(x, score=None):\n",
    "    \"\"\"\n",
    "    Takes a bounding box in the centre form [x,y,s,r] and returns it in the form\n",
    "      [x1,y1,x2,y2] where x1,y1 is the top left and x2,y2 is the bottom right\n",
    "    \"\"\"\n",
    "    w = np.sqrt(x[2] * x[3])\n",
    "    h = x[2] / w\n",
    "    if(score == None):\n",
    "      return np.array([x[0]-w/2., x[1]-h/2., x[0]+w/2., x[1]+h/2.]).reshape((1, 4))\n",
    "    else:\n",
    "      return np.array([x[0]-w/2., x[1]-h/2., x[0]+w/2., x[1]+h/2., score]).reshape((1, 5))\n",
    "\n",
    "\n",
    "def speed_direction(bbox1, bbox2):\n",
    "    cx1, cy1 = (bbox1[0]+bbox1[2]) / 2.0, (bbox1[1]+bbox1[3])/2.0\n",
    "    cx2, cy2 = (bbox2[0]+bbox2[2]) / 2.0, (bbox2[1]+bbox2[3])/2.0\n",
    "    speed = np.array([cy2-cy1, cx2-cx1])\n",
    "    norm = np.sqrt((cy2-cy1)**2 + (cx2-cx1)**2) + 1e-6\n",
    "    return speed / norm"
   ]
  },
  {
   "cell_type": "code",
   "execution_count": 4,
   "metadata": {},
   "outputs": [],
   "source": [
    "class KalmanBoxTracker(object):\n",
    "    \"\"\"\n",
    "    This class represents the internal state of individual tracked objects observed as bbox.\n",
    "    \"\"\"\n",
    "    count = 0\n",
    "\n",
    "    def __init__(self, bbox, delta_t=3, orig=False):\n",
    "        \"\"\"\n",
    "        Initialises a tracker using initial bounding box.\n",
    "\n",
    "        \"\"\"\n",
    "        # define constant velocity model\n",
    "        if not orig:\n",
    "          from trackers.ocsort_tracker.kalmanfilter import KalmanFilterNew as KalmanFilter\n",
    "          self.kf = KalmanFilter(dim_x=7, dim_z=4)\n",
    "        else:\n",
    "          from filterpy.kalman import KalmanFilter\n",
    "          self.kf = KalmanFilter(dim_x=7, dim_z=4)\n",
    "        # states : [u, v, s, r, dot_u, dot_v, dot_s]\n",
    "        self.kf.F = np.array([[1, 0, 0, 0, 1, 0, 0], [0, 1, 0, 0, 0, 1, 0], [0, 0, 1, 0, 0, 0, 1], [\n",
    "                            0, 0, 0, 1, 0, 0, 0],  [0, 0, 0, 0, 1, 0, 0], [0, 0, 0, 0, 0, 1, 0], [0, 0, 0, 0, 0, 0, 1]])\n",
    "        self.kf.H = np.array([[1, 0, 0, 0, 0, 0, 0], [0, 1, 0, 0, 0, 0, 0],\n",
    "                            [0, 0, 1, 0, 0, 0, 0], [0, 0, 0, 1, 0, 0, 0]])\n",
    "\n",
    "        self.kf.R[2:, 2:] *= 10. # Q (uncertainty/noise of measurement) diag[1, 1, 10, 10]\n",
    "        self.kf.P[4:, 4:] *= 1000.  # sigma (covariance matrix) give high uncertainty to the unobservable initial velocities diag[1,1,1,1,1000,1000,1000]\n",
    "        self.kf.P *= 10. # diag[10,10,10,10,10^4,10^4,10^4]\n",
    "        self.kf.Q[-1, -1] *= 0.01 # R (uncertainty/noise of propagation) diag[1,1,1,1,1,1, 0.01] area variation is not big\n",
    "        self.kf.Q[4:, 4:] *= 0.01 # diagdiag[1,1,1,1, 0.01, 0.01, 10^(-4)] # he or she wanted velocity doesn't have big noise\n",
    "\n",
    "        self.kf.x[:4] = convert_bbox_to_z(bbox)\n",
    "        self.time_since_update = 0\n",
    "        self.id = KalmanBoxTracker.count\n",
    "        KalmanBoxTracker.count += 1 # Every assignment, count variable gets one\n",
    "        self.history = []\n",
    "        self.hits = 0\n",
    "        self.hit_streak = 0\n",
    "        self.age = 0\n",
    "        \"\"\"\n",
    "        NOTE: [-1,-1,-1,-1,-1] is a compromising placeholder for non-observation status, the same for the return of \n",
    "        function k_previous_obs. It is ugly and I do not like it. But to support generate observation array in a \n",
    "        fast and unified way, which you would see below k_observations = np.array([k_previous_obs(...]]), let's bear it for now.\n",
    "        \"\"\"\n",
    "        # OCSORT를 위한 새로운 변수\n",
    "        self.last_observation = np.array([-1, -1, -1, -1, -1])  # placeholder\n",
    "        self.observations = dict()\n",
    "        self.history_observations = []\n",
    "        self.velocity = None\n",
    "        self.delta_t = delta_t\n",
    "\n",
    "    def update(self, bbox):\n",
    "        \"\"\"\n",
    "        Updates the state vector with observed bbox.\n",
    "        \"\"\"\n",
    "        if bbox is not None:\n",
    "            if self.last_observation.sum() >= 0:  # no previous observation\n",
    "                previous_box = None\n",
    "                for i in range(self.delta_t):\n",
    "                    dt = self.delta_t - i\n",
    "                    if self.age - dt in self.observations:\n",
    "                        previous_box = self.observations[self.age-dt]\n",
    "                        break\n",
    "                if previous_box is None:\n",
    "                    previous_box = self.last_observation\n",
    "                \"\"\"\n",
    "                  Estimate the track speed direction with observations \\Delta t steps away\n",
    "                \"\"\"\n",
    "                self.velocity = speed_direction(previous_box, bbox)\n",
    "            \n",
    "            \"\"\"\n",
    "              Insert new observations. This is a ugly way to maintain both self.observations\n",
    "              and self.history_observations. Bear it for the moment.\n",
    "            \"\"\"\n",
    "            self.last_observation = bbox\n",
    "            self.observations[self.age] = bbox\n",
    "            self.history_observations.append(bbox)\n",
    "\n",
    "            self.time_since_update = 0\n",
    "            self.history = []\n",
    "            self.hits += 1\n",
    "            self.hit_streak += 1\n",
    "            self.kf.update(convert_bbox_to_z(bbox))\n",
    "        else:\n",
    "            self.kf.update(bbox)\n",
    "\n",
    "    def predict(self):\n",
    "        \"\"\"\n",
    "        Advances the state vector and returns the predicted bounding box estimate.\n",
    "        return latest bbox estimation with kalman filter\n",
    "        \"\"\"\n",
    "        if((self.kf.x[6]+self.kf.x[2]) <= 0): # area + dot(area) <=0\n",
    "            self.kf.x[6] *= 0.0 # make dot(area) 0.0\n",
    "\n",
    "        self.kf.predict() # predict next state (prior)\n",
    "        self.age += 1\n",
    "        if(self.time_since_update > 0):\n",
    "            self.hit_streak = 0\n",
    "        self.time_since_update += 1\n",
    "        self.history.append(convert_x_to_bbox(self.kf.x))\n",
    "        return self.history[-1]\n",
    "\n",
    "    def get_state(self):\n",
    "        \"\"\"\n",
    "        Returns the current bounding box estimate.\n",
    "        \"\"\"\n",
    "        return convert_x_to_bbox(self.kf.x)\n",
    "\n",
    "\n",
    "\"\"\"\n",
    "    We support multiple ways for association cost calculation, by default\n",
    "    we use IoU. GIoU may have better performance in some situations. We note \n",
    "    that we hardly normalize the cost by all methods to (0,1) which may not be \n",
    "    the best practice.\n",
    "\"\"\"\n",
    "ASSO_FUNCS = {  \"iou\": iou_batch,\n",
    "                \"giou\": giou_batch,\n",
    "                \"ciou\": ciou_batch,\n",
    "                \"diou\": diou_batch,\n",
    "                \"ct_dist\": ct_dist}"
   ]
  },
  {
   "cell_type": "code",
   "execution_count": 5,
   "metadata": {},
   "outputs": [
    {
     "name": "stdout",
     "output_type": "stream",
     "text": [
      "1.5355086372360844\n"
     ]
    }
   ],
   "source": [
    "# OCSORT 클래스 구현\n",
    "max_age = 30\n",
    "min_hits = 3\n",
    "iou_threshold = 0.3\n",
    "trackers = []\n",
    "frame_count = 0\n",
    "det_thresh = 0.97\n",
    "delta_t = 3\n",
    "asso_func = ASSO_FUNCS['iou']\n",
    "inertia = 0.2\n",
    "use_byte = False\n",
    "\n",
    "# update 함수 구현\n",
    "if output is None:\n",
    "    result = np.empty((0, 5))\n",
    "\n",
    "frame_count += 1\n",
    " # post_process detections\n",
    "if output.shape[1] == 5:\n",
    "    scores = output[:, 4]\n",
    "    bboxes = output[:, :4]\n",
    "else:\n",
    "    output = output.cpu().numpy()\n",
    "    scores = output[:, 4] * output[:, 5]\n",
    "    bboxes = output[:, :4]  # x1y1x2y2\n",
    "img_h, img_w = 521, 464\n",
    "scale = min(800/float(img_h), 1440/float(img_w))\n",
    "print(scale)\n",
    "# scale bbox to fit bbox to original image\n",
    "bboxes /= scale"
   ]
  },
  {
   "cell_type": "code",
   "execution_count": 6,
   "metadata": {},
   "outputs": [
    {
     "name": "stdout",
     "output_type": "stream",
     "text": [
      "(8, 5)\n"
     ]
    }
   ],
   "source": [
    "# bbox에 score 추가\n",
    "dets = np.concatenate((bboxes, np.expand_dims(scores, axis=-1)), axis=1)\n",
    "print(dets.shape)"
   ]
  },
  {
   "cell_type": "code",
   "execution_count": 7,
   "metadata": {},
   "outputs": [
    {
     "name": "stdout",
     "output_type": "stream",
     "text": [
      "[False False False False False False False  True]\n",
      "[[360.9689     263.17294    447.51727    521.0542       0.96972936]]\n"
     ]
    }
   ],
   "source": [
    "inds_low = scores > 0.1\n",
    "inds_high = scores < 0.97 # 원래 0.97에 det_thresh가 들어가야함. 실험을 위한 값을 넣음\n",
    "\n",
    "# det_thresh > score > 0.1 for second matching\n",
    "inds_second = np.logical_and(inds_low, inds_high)\n",
    "# detections for second matching\n",
    "print(inds_second)\n",
    "dets_second = dets[inds_second]\n",
    "print(dets_second)"
   ]
  },
  {
   "cell_type": "code",
   "execution_count": 9,
   "metadata": {},
   "outputs": [
    {
     "name": "stdout",
     "output_type": "stream",
     "text": [
      "[[125.085724    20.325838   213.6864     256.04837      0.97902924]\n",
      " [ 17.45363     16.951126    95.11083    253.13449      0.9780632 ]\n",
      " [ 10.6256     266.8269      82.798294   519.7203       0.97802097]\n",
      " [128.27574    269.84427    215.50285    518.3311       0.977541  ]\n",
      " [255.16469      9.635309   328.90475    257.15335      0.97752154]\n",
      " [251.6598     273.06784    317.6955     518.18054      0.97611165]\n",
      " [376.27557     14.037759   444.0755     253.00522      0.9751351 ]]\n"
     ]
    }
   ],
   "source": [
    "# remain indices scores > det_threshold\n",
    "remain_inds = scores > 0.97\n",
    "dets = dets[remain_inds]\n",
    "print(dets)"
   ]
  },
  {
   "cell_type": "code",
   "execution_count": 10,
   "metadata": {},
   "outputs": [
    {
     "name": "stdout",
     "output_type": "stream",
     "text": [
      "[<__main__.KalmanBoxTracker object at 0x7fd403ba7580>, <__main__.KalmanBoxTracker object at 0x7fd3fc1267c0>, <__main__.KalmanBoxTracker object at 0x7fd403ba72e0>, <__main__.KalmanBoxTracker object at 0x7fd403ba7d00>, <__main__.KalmanBoxTracker object at 0x7fd5143d9130>, <__main__.KalmanBoxTracker object at 0x7fd3b4132d00>, <__main__.KalmanBoxTracker object at 0x7fd3c77cb430>]\n"
     ]
    }
   ],
   "source": [
    "trackers = []\n",
    "for i in range(len(dets)):\n",
    "    trk = KalmanBoxTracker(dets[i, :], delta_t=delta_t)\n",
    "    trackers.append(trk)\n",
    "print(trackers)"
   ]
  },
  {
   "cell_type": "code",
   "execution_count": 11,
   "metadata": {},
   "outputs": [
    {
     "name": "stdout",
     "output_type": "stream",
     "text": [
      "<class 'numpy.ndarray'> prediced shape (4,)\n",
      "<class 'numpy.ndarray'> prediced shape (4,)\n",
      "<class 'numpy.ndarray'> prediced shape (4,)\n",
      "<class 'numpy.ndarray'> prediced shape (4,)\n",
      "<class 'numpy.ndarray'> prediced shape (4,)\n",
      "<class 'numpy.ndarray'> prediced shape (4,)\n",
      "<class 'numpy.ndarray'> prediced shape (4,)\n"
     ]
    }
   ],
   "source": [
    "# tracker(type: kalmanboxtracker) 추가 후 실행\n",
    "# get predicted locations from existing trackers\n",
    "trks = np.zeros((len(trackers), 5))\n",
    "to_del = []\n",
    "ret = []\n",
    "for t, trk in enumerate(trks):\n",
    "    # predict함수는 bbox만 반환\n",
    "    pos = trackers[t].predict()[0]\n",
    "    print(type(pos),\"prediced shape\", pos.shape)\n",
    "    trk[:] = [pos[0], pos[1], pos[2], pos[3], 0]\n",
    "    if np.any(np.isnan(pos)):\n",
    "        to_del.append(t)"
   ]
  },
  {
   "cell_type": "code",
   "execution_count": 13,
   "metadata": {},
   "outputs": [
    {
     "name": "stdout",
     "output_type": "stream",
     "text": [
      "[[125.08572444  20.3258391  213.6864008  256.04837126   0.        ]\n",
      " [ 17.45363035  16.95112529  95.11083422 253.13449178   0.        ]\n",
      " [ 10.6255991  266.82690113  82.79829197 519.72027905   0.        ]\n",
      " [128.27574259 269.84427118 215.50285238 518.33111334   0.        ]\n",
      " [255.16468853   9.63531012 328.90475422 257.15334421   0.        ]\n",
      " [251.65980528 273.06784001 317.69549562 518.18054255   0.        ]\n",
      " [376.27557404  14.03775941 444.07550018 253.00521125   0.        ]]\n"
     ]
    }
   ],
   "source": [
    "# predict에서 None뜬 (predict가 안된) 박스 제거\n",
    "trks = np.ma.compress_rows(np.ma.masked_invalid(trks))\n",
    "print(trks)\n",
    "for t in reversed(to_del):\n",
    "    trackers.pop(t)\n",
    "\n",
    "# velcity는 당연하게도 update를 한 후 생긴다. 초기화 안되면 None\n",
    "velocities = np.array(\n",
    "    [trk.velocity if trk.velocity is not None else np.array((0,0)) for trk in trackers])\n",
    "# 최근 det bbox + score (shape(5))\n",
    "last_boxes = np.array([trk.last_observation for trk in trackers])\n",
    "# k 시간 전 det bbox + socre (shape(5))\n",
    "k_observations = np.array(\n",
    "    [k_previous_obs(trk.observations, trk.age, delta_t) for trk in trackers])"
   ]
  },
  {
   "cell_type": "code",
   "execution_count": 14,
   "metadata": {},
   "outputs": [
    {
     "name": "stdout",
     "output_type": "stream",
     "text": [
      "[[0 0]\n",
      " [0 0]\n",
      " [0 0]\n",
      " [0 0]\n",
      " [0 0]\n",
      " [0 0]\n",
      " [0 0]]\n",
      "[[-1 -1 -1 -1 -1]\n",
      " [-1 -1 -1 -1 -1]\n",
      " [-1 -1 -1 -1 -1]\n",
      " [-1 -1 -1 -1 -1]\n",
      " [-1 -1 -1 -1 -1]\n",
      " [-1 -1 -1 -1 -1]\n",
      " [-1 -1 -1 -1 -1]]\n",
      "[[-1 -1 -1 -1 -1]\n",
      " [-1 -1 -1 -1 -1]\n",
      " [-1 -1 -1 -1 -1]\n",
      " [-1 -1 -1 -1 -1]\n",
      " [-1 -1 -1 -1 -1]\n",
      " [-1 -1 -1 -1 -1]\n",
      " [-1 -1 -1 -1 -1]]\n"
     ]
    }
   ],
   "source": [
    "print(velocities)\n",
    "print(last_boxes)\n",
    "print(k_observations)"
   ]
  },
  {
   "cell_type": "code",
   "execution_count": 15,
   "metadata": {},
   "outputs": [],
   "source": [
    "# First round of associations, returns are indices of matched dets and trks np.concat((det index, trk index)), unmatched : np.array(unmatched indices)\n",
    "matched, unmatched_dets, unmatched_trks = associate(\n",
    "    dets, trks, iou_threshold, velocities, k_observations, inertia\n",
    ")"
   ]
  },
  {
   "cell_type": "code",
   "execution_count": 16,
   "metadata": {},
   "outputs": [
    {
     "name": "stdout",
     "output_type": "stream",
     "text": [
      "matched [[0 0]\n",
      " [1 1]\n",
      " [2 2]\n",
      " [3 3]\n",
      " [4 4]\n",
      " [5 5]\n",
      " [6 6]]\n",
      "unmatched_dets []\n",
      "unmatched_trks []\n"
     ]
    }
   ],
   "source": [
    "print(\"matched\", matched)\n",
    "print(\"unmatched_dets\", unmatched_dets)\n",
    "print(\"unmatched_trks\", unmatched_trks)"
   ]
  },
  {
   "cell_type": "code",
   "execution_count": 17,
   "metadata": {},
   "outputs": [],
   "source": [
    "for m in matched:\n",
    "    # k time 전의 det와 현재 det의 velocity direction도 여기서 초기화됨 (last_observation이 없어 계속 None)\n",
    "    trackers[m[1]].update(dets[m[0], :])\n",
    "    "
   ]
  },
  {
   "cell_type": "code",
   "execution_count": 19,
   "metadata": {},
   "outputs": [
    {
     "name": "stdout",
     "output_type": "stream",
     "text": [
      "[[125.08572444  20.3258391  213.6864008  256.04837126]]\n",
      "[[ 17.45363035  16.95112529  95.11083422 253.13449178]]\n",
      "[[ 10.6255991  266.82690113  82.79829197 519.72027905]]\n",
      "[[128.27574259 269.84427118 215.50285238 518.33111334]]\n",
      "[[255.16468853   9.63531012 328.90475422 257.15334421]]\n",
      "[[251.65980528 273.06784001 317.69549562 518.18054255]]\n",
      "[[376.27557404  14.03775941 444.07550018 253.00521125]]\n"
     ]
    }
   ],
   "source": [
    "for i, trk in enumerate(trackers):\n",
    "    print(trk.get_state())"
   ]
  },
  {
   "cell_type": "code",
   "execution_count": 20,
   "metadata": {},
   "outputs": [
    {
     "name": "stdout",
     "output_type": "stream",
     "text": [
      "None\n",
      "None\n",
      "None\n",
      "None\n",
      "None\n",
      "None\n",
      "None\n"
     ]
    }
   ],
   "source": [
    "for m in matched:\n",
    "    print(trackers[m[1]].velocity)"
   ]
  },
  {
   "cell_type": "code",
   "execution_count": null,
   "metadata": {},
   "outputs": [],
   "source": [
    "# BYTE association (이건 아직 안쓰므로 나중에 이해하기)\n",
    "\n",
    "# if self.use_byte and len(dets_second) > 0 and unmatched_trks.shape[0] > 0:\n",
    "#     u_trks = trks[unmatched_trks]\n",
    "#     iou_left = self.asso_func(dets_second, u_trks)          # iou between low score detections and unmatched tracks\n",
    "#     iou_left = np.array(iou_left)\n",
    "#     if iou_left.max() > self.iou_threshold:\n",
    "#         \"\"\"\n",
    "#             NOTE: by using a lower threshold, e.g., self.iou_threshold - 0.1, you may\n",
    "#             get a higher performance especially on MOT17/MOT20 datasets. But we keep it\n",
    "#             uniform here for simplicity\n",
    "#         \"\"\"\n",
    "#         matched_indices = linear_assignment(-iou_left)\n",
    "#         to_remove_trk_indices = []\n",
    "#         for m in matched_indices:\n",
    "#             det_ind, trk_ind = m[0], unmatched_trks[m[1]]\n",
    "#             if iou_left[m[0], m[1]] < self.iou_threshold:\n",
    "#                 continue\n",
    "#             self.trackers[trk_ind].update(dets_second[det_ind, :])\n",
    "#             to_remove_trk_indices.append(trk_ind)\n",
    "#         unmatched_trks = np.setdiff1d(unmatched_trks, np.array(to_remove_trk_indices))\n"
   ]
  },
  {
   "cell_type": "code",
   "execution_count": 21,
   "metadata": {},
   "outputs": [],
   "source": [
    "# Second round of association by OCR (pseudo code setp 2)\n",
    "if unmatched_dets.shape[0] > 0 and unmatched_trks.shape[0] > 0:\n",
    "    left_dets = dets[unmatched_dets]\n",
    "    left_trks = last_boxes[unmatched_trks]\n",
    "    iou_left = asso_func(left_dets, left_trks)\n",
    "    iou_left = np.array(iou_left)\n",
    "    if iou_left.max() > iou_threshold:\n",
    "        \"\"\"\n",
    "            NOTE: by using a lower threshold, e.g., self.iou_threshold - 0.1, you may\n",
    "            get a higher performance especially on MOT17/MOT20 datasets. But we keep it\n",
    "            uniform here for simplicity\n",
    "        \"\"\"\n",
    "        rematched_indices = linear_assignment(-iou_left)\n",
    "        to_remove_det_indices = []\n",
    "        to_remove_trk_indices = []\n",
    "        for m in rematched_indices:\n",
    "            det_ind, trk_ind = unmatched_dets[m[0]], unmatched_trks[m[1]]\n",
    "            # rematch 된것 중에서도 iou threshold를 못넘기면 버림\n",
    "            if iou_left[m[0], m[1]] < iou_threshold:\n",
    "                continue\n",
    "            trackers[trk_ind].update(dets[det_ind, :])\n",
    "            to_remove_det_indices.append(det_ind)\n",
    "            to_remove_trk_indices.append(trk_ind)\n",
    "        # rematched 된 indices 제외\n",
    "        unmatched_dets = np.setdiff1d(unmatched_dets, np.array(to_remove_det_indices))\n",
    "        unmatched_trks = np.setdiff1d(unmatched_trks, np.array(to_remove_trk_indices))"
   ]
  },
  {
   "cell_type": "code",
   "execution_count": 22,
   "metadata": {},
   "outputs": [
    {
     "name": "stderr",
     "output_type": "stream",
     "text": [
      "/tmp/ipykernel_21330/4007948956.py:8: DeprecationWarning: elementwise comparison failed; this will raise an error in the future.\n",
      "  if m in unmatched_trks:\n"
     ]
    }
   ],
   "source": [
    "# unmatched 된 tracker도 update 해줌(x_,sigma_가 그대로 x, sigma posterior로 저장됨 + z는 np.array([None]*dim_z)).\n",
    "\"\"\"\n",
    "        Add a new measurement (z) to the Kalman filter.\n",
    "        If z is None, nothing is computed. However, x_post and P_post are\n",
    "        updated with the prior (x_prior, P_prior), and self.z is set to None.\n",
    "        Parameters\n",
    "\"\"\"\n",
    "if m in unmatched_trks:\n",
    "    trackers[m].update(None)"
   ]
  },
  {
   "cell_type": "code",
   "execution_count": 23,
   "metadata": {},
   "outputs": [],
   "source": [
    "# create and initialise new trackers for unmatched detections\n",
    "for i in unmatched_dets:\n",
    "    trk = KalmanBoxTracker(dets[i, :], delta_t=delta_t)\n",
    "    trackers.append(trk)\n",
    "i = len(trackers)\n",
    "for trk in reversed(trackers):\n",
    "    if trk.last_observation.sum() < 0:\n",
    "        # kf.x's bbox state\n",
    "        d = trk.get_state()[0]\n",
    "    else:\n",
    "        \"\"\"\n",
    "            this is optional to use the recent observation or the kalman filter prediction,\n",
    "            we didn't notice significant difference here\n",
    "        \"\"\"\n",
    "        d = trk.last_observation[:4]\n",
    "    if (trk.time_since_update < 1) and (trk.hit_streak >= min_hits or frame_count <= min_hits):\n",
    "        # +1 as MOT benchmark requires positive\n",
    "        ret.append(np.concatenate((d, [trk.id+1])).reshape(1, -1))\n",
    "    i -= 1\n",
    "    # remove dead tracklet\n",
    "    if(trk.time_since_update > max_age):\n",
    "        trackers.pop(i)\n",
    "if(len(ret)>0):\n",
    "    result = np.concatenate(ret)"
   ]
  },
  {
   "cell_type": "code",
   "execution_count": 24,
   "metadata": {},
   "outputs": [
    {
     "name": "stdout",
     "output_type": "stream",
     "text": [
      "[[376.27557373  14.03775883 444.07550049 253.00521851  15.        ]\n",
      " [251.6598053  273.06784058 317.69549561 518.18054199  14.        ]\n",
      " [255.16468811   9.63530922 328.90475464 257.15335083  13.        ]\n",
      " [128.27574158 269.8442688  215.50285339 518.33111572  12.        ]\n",
      " [ 10.62559986 266.8269043   82.79829407 519.72027588  11.        ]\n",
      " [ 17.45363045  16.9511261   95.11083221 253.13449097  10.        ]\n",
      " [125.08572388  20.32583809 213.68640137 256.04837036   9.        ]]\n"
     ]
    }
   ],
   "source": [
    "print(result)"
   ]
  },
  {
   "cell_type": "code",
   "execution_count": 25,
   "metadata": {},
   "outputs": [],
   "source": [
    "def get_color(idx):\n",
    "    idx = idx * 3\n",
    "    color = ((37 * idx) % 255, (17 * idx) % 255, (29 * idx) % 255)\n",
    "\n",
    "    return color\n",
    "\n",
    "def plot_tracking(image, tlwhs, obj_ids, scores=None, frame_id=0, fps=0., ids2=None):\n",
    "    # 이미 preproc에서 하므로 필요 없음\n",
    "    #im = np.ascontiguousarray(np.copy(image))\n",
    "    im = image\n",
    "    im_h, im_w = im.shape[:2]\n",
    "\n",
    "    top_view = np.zeros([im_w, im_w, 3], dtype=np.uint8) + 255\n",
    "\n",
    "    #text_scale = max(1, image.shape[1] / 1600.)\n",
    "    #text_thickness = 2\n",
    "    #line_thickness = max(1, int(image.shape[1] / 500.))\n",
    "    text_scale = 2\n",
    "    text_thickness = 2\n",
    "    line_thickness = 3\n",
    "\n",
    "    radius = max(5, int(im_w/140.))\n",
    "    cv2.putText(im, 'frame: %d fps: %.2f num: %d' % (frame_id, fps, len(tlwhs)),\n",
    "                (0, int(15 * text_scale)), cv2.FONT_HERSHEY_PLAIN, 2, (0, 0, 255), thickness=2)\n",
    "\n",
    "    for i, tlwh in enumerate(tlwhs):\n",
    "        x1, y1, w, h = tlwh\n",
    "        intbox = tuple(map(int, (x1, y1, x1 + w, y1 + h)))\n",
    "        \n",
    "        # median filter\n",
    "        \"\"\"\n",
    "        distance = []\n",
    "        kernel = 5\n",
    "        for dx in range(-kernel, kernel+1):\n",
    "            for dy in range(-kernel, kernel+1):\n",
    "                x = cx + dx\n",
    "                y = cy + dy\n",
    "                if (x <0) or (y<0):\n",
    "                    continue\n",
    "                depth_value = depthimg[x,y]\n",
    "\n",
    "                distance.append(depth_value)\n",
    "        distance.sort()\n",
    "        depth = distance[len(distance)//2]\n",
    "        \"\"\"\n",
    "        \n",
    "        obj_id = int(obj_ids[i])\n",
    "        id_text = '{}'.format(int(obj_id))\n",
    "        if ids2 is not None:\n",
    "            id_text = id_text + ', {}'.format(int(ids2[i]))\n",
    "        color = get_color(abs(obj_id))\n",
    "        cv2.rectangle(im, intbox[0:2], intbox[2:4], color=color, thickness=line_thickness)\n",
    "        cv2.putText(im, id_text, (intbox[0], intbox[1]), cv2.FONT_HERSHEY_PLAIN, text_scale, (0, 0, 255),\n",
    "                    thickness=text_thickness)\n",
    "    return im"
   ]
  },
  {
   "cell_type": "code",
   "execution_count": 26,
   "metadata": {},
   "outputs": [
    {
     "name": "stdout",
     "output_type": "stream",
     "text": [
      "7\n"
     ]
    }
   ],
   "source": [
    "online_tlwhs = []\n",
    "online_ids = []\n",
    "results = []\n",
    "frame_id = 0\n",
    "for t in result:\n",
    "    tlwh = [t[0], t[1], t[2] - t[0], t[3] - t[1]]\n",
    "    tid = t[4]\n",
    "    vertical = tlwh[2] / tlwh[3] > 1.6 # threshold for filtering out boxes of which aspect ratio are above the given value\n",
    "    if tlwh[2] * tlwh[3] > 10 and not vertical: # 10: filter out tiny boxes\n",
    "        online_tlwhs.append(tlwh)\n",
    "        online_ids.append(tid)\n",
    "        results.append(\n",
    "            f\"{frame_id},{tid},{tlwh[0]:.2f},{tlwh[1]:.2f},{tlwh[2]:.2f},{tlwh[3]:.2f},1.0,-1,-1,-1\\n\"\n",
    "        )\n",
    "print(len(results))\n",
    "online_im = plot_tracking(\n",
    "    x, online_tlwhs, online_ids, frame_id=frame_id + 1, fps=0\n",
    ")"
   ]
  },
  {
   "cell_type": "code",
   "execution_count": 27,
   "metadata": {},
   "outputs": [
    {
     "data": {
      "text/plain": [
       "<matplotlib.image.AxesImage at 0x7fd3615b20a0>"
      ]
     },
     "execution_count": 27,
     "metadata": {},
     "output_type": "execute_result"
    },
    {
     "data": {
      "image/png": "[encoded data removed]",
      "text/plain": [
       "<Figure size 432x288 with 1 Axes>"
      ]
     },
     "metadata": {
      "needs_background": "light"
     },
     "output_type": "display_data"
    }
   ],
   "source": [
    "from matplotlib import pyplot as plt\n",
    "\n",
    "plt.imshow(online_im)"
   ]
  },
  {
   "cell_type": "code",
   "execution_count": 8,
   "metadata": {},
   "outputs": [
    {
     "name": "stdout",
     "output_type": "stream",
     "text": [
      "(12, 20, 5)\n",
      "12\n",
      "\n",
      "\n",
      "\n",
      "\n",
      "\n",
      "\n",
      "\n",
      "\n",
      "\n",
      "\n",
      "\n",
      "\n"
     ]
    }
   ],
   "source": [
    "a = np.random.randint(10,20,(12,20,5))\n",
    "print(a.shape)\n",
    "print(len(a))\n",
    "for i, img_pred in enumerate(a):\n",
    "    print(\"\")"
   ]
  }
 ],
 "metadata": {
  "kernelspec": {
   "display_name": "Python 3.8.13 ('ocsort')",
   "language": "python",
   "name": "python3"
  },
  "language_info": {
   "codemirror_mode": {
    "name": "ipython",
    "version": 3
   },
   "file_extension": ".py",
   "mimetype": "text/x-python",
   "name": "python",
   "nbconvert_exporter": "python",
   "pygments_lexer": "ipython3",
   "version": "3.8.13"
  },
  "orig_nbformat": 4,
  "vscode": {
   "interpreter": {
    "hash": "58b5af387b408301e40b17abed398f3fe69be9f57d3886029e3eb73eb8d2220d"
   }
  }
 },
 "nbformat": 4,
 "nbformat_minor": 2
}
