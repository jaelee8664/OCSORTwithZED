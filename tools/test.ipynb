{
 "cells": [
  {
   "cell_type": "code",
   "execution_count": 1,
   "metadata": {},
   "outputs": [
    {
     "name": "stderr",
     "output_type": "stream",
     "text": [
      "/home/leejaehyeok/.local/lib/python3.8/site-packages/tqdm/auto.py:22: TqdmWarning: IProgress not found. Please update jupyter and ipywidgets. See https://ipywidgets.readthedocs.io/en/stable/user_install.html\n",
      "  from .autonotebook import tqdm as notebook_tqdm\n"
     ]
    }
   ],
   "source": [
    "from demo_track import Predictor\n",
    "import torch\n",
    "from torch2trt import TRTModule\n",
    "import numpy as np\n",
    "import torchvision\n",
    "import cv2\n",
    "# import sys\n",
    "import os\n",
    "# sys.path.append('/home/leejaehyeok/trackingProject/ocsort/OC_SORT/')"
   ]
  },
  {
   "cell_type": "code",
   "execution_count": 2,
   "metadata": {},
   "outputs": [],
   "source": [
    "trt_file = '/home/leejaehyeok/trackingProject/ocsort/OC_SORT/YOLOX_outputs/yolox_dancetrack_test/model_trt.pth'\n",
    "org_file = '/home/leejaehyeok/trackingProject/ocsort/OC_SORT/pretrained/ocsort_dance_model.pth.tar'\n",
    "img_file = '/home/leejaehyeok/trackingProject/ocsort/OC_SORT/samplepeople.jpg'"
   ]
  },
  {
   "cell_type": "code",
   "execution_count": 3,
   "metadata": {},
   "outputs": [],
   "source": [
    "def preproc(img, input_size, mean, std, swap=(2, 0, 1)):\n",
    "    if len(img.shape) == 3:\n",
    "        padded_img = np.ones((input_size[0], input_size[1], 3)) * 114.0\n",
    "    else:\n",
    "        padded_img = np.ones(input_size) * 114.0\n",
    "    #img = np.array(image)\n",
    "    r = min(input_size[0] / img.shape[0], input_size[1] / img.shape[1])\n",
    "    resized_img = cv2.resize(\n",
    "        img,\n",
    "        (int(img.shape[1] * r), int(img.shape[0] * r)),\n",
    "        interpolation=cv2.INTER_LINEAR,\n",
    "    ).astype(np.float32)\n",
    "    padded_img[: int(img.shape[0] * r), : int(img.shape[1] * r)] = resized_img\n",
    "\n",
    "    padded_img = padded_img[:, :, ::-1]\n",
    "    padded_img /= 255.0\n",
    "    \n",
    "    if mean is not None:\n",
    "        padded_img -= mean\n",
    "    if std is not None:\n",
    "        padded_img /= std\n",
    "        \n",
    "    padded_img = padded_img.transpose(swap)\n",
    "    padded_img = np.ascontiguousarray(padded_img, dtype=np.float32)\n",
    "    return padded_img, r"
   ]
  },
  {
   "cell_type": "code",
   "execution_count": 4,
   "metadata": {},
   "outputs": [
    {
     "name": "stdout",
     "output_type": "stream",
     "text": [
      "[07/19/2022-23:09:43] [TRT] [W] Using an engine plan file across different models of devices is not recommended and is likely to affect performance or even cause errors.\n"
     ]
    },
    {
     "data": {
      "text/plain": [
       "<All keys matched successfully>"
      ]
     },
     "execution_count": 4,
     "metadata": {},
     "output_type": "execute_result"
    }
   ],
   "source": [
    "\n",
    "            \n",
    "# x = torch.ones((1, 3, 800, 1440), device=\"cuda\")\n",
    "model_trt = TRTModule()\n",
    "model_trt.load_state_dict(torch.load(trt_file))\n"
   ]
  },
  {
   "cell_type": "code",
   "execution_count": 5,
   "metadata": {},
   "outputs": [
    {
     "name": "stdout",
     "output_type": "stream",
     "text": [
      "(521, 464, 3)\n",
      "torch.Size([1, 3, 800, 1440])\n"
     ]
    }
   ],
   "source": [
    "x = cv2.imread(img_file)\n",
    "x1 = x\n",
    "x = np.array(x)\n",
    "print(x.shape)\n",
    "x, _ = preproc(x, (800, 1440), (0.485, 0.456, 0.406), (0.229, 0.224, 0.225))\n",
    "x = torch.from_numpy(x).unsqueeze(0).float().to('cuda:0')\n",
    "\n",
    "print(x.shape)"
   ]
  },
  {
   "cell_type": "code",
   "execution_count": 6,
   "metadata": {},
   "outputs": [
    {
     "name": "stdout",
     "output_type": "stream",
     "text": [
      "[07/19/2022-23:09:48] [TRT] [W] The enqueue() method has been deprecated when used with engines built from a network created with NetworkDefinitionCreationFlag::kEXPLICIT_BATCH flag. Please use enqueueV2() instead.\n",
      "[07/19/2022-23:09:48] [TRT] [W] Also, the batchSize argument passed into this function has no effect on changing the input shapes. Please use setBindingDimensions() function to change input shapes instead.\n"
     ]
    }
   ],
   "source": [
    "with torch.no_grad():\n",
    "    outputs = model_trt(x)"
   ]
  },
  {
   "cell_type": "code",
   "execution_count": 7,
   "metadata": {},
   "outputs": [],
   "source": [
    "def decode_outputs(outputs, dtype):\n",
    "    grids = []\n",
    "    strides = []\n",
    "    hw = [[100,180],[50,90],[25,45]]\n",
    "    cls_strides = [8, 16, 32]\n",
    "    for (hsize, wsize), stride in zip(hw, cls_strides):\n",
    "        yv, xv = torch.meshgrid([torch.arange(hsize), torch.arange(wsize)])\n",
    "        a = torch.stack((xv,yv))\n",
    "        print(a.shape)\n",
    "        grid = torch.stack((xv, yv), 2).view(1, -1, 2)\n",
    "        grids.append(grid)\n",
    "        shape = grid.shape[:2]\n",
    "        strides.append(torch.full((*shape, 1), stride))\n",
    "    print(dtype)\n",
    "    grids = torch.cat(grids, dim=1).type(dtype)\n",
    "    strides = torch.cat(strides, dim=1).type(dtype)\n",
    "\n",
    "    outputs[..., :2] = (outputs[..., :2] + grids) * strides\n",
    "    outputs[..., 2:4] = torch.exp(outputs[..., 2:4]) * strides\n",
    "    return outputs"
   ]
  },
  {
   "cell_type": "code",
   "execution_count": 8,
   "metadata": {},
   "outputs": [
    {
     "name": "stdout",
     "output_type": "stream",
     "text": [
      "torch.Size([2, 100, 180])\n",
      "torch.Size([2, 50, 90])\n",
      "torch.Size([2, 25, 45])\n",
      "torch.cuda.FloatTensor\n"
     ]
    },
    {
     "name": "stderr",
     "output_type": "stream",
     "text": [
      "/home/leejaehyeok/.conda/envs/ocsort/lib/python3.8/site-packages/torch/functional.py:568: UserWarning: torch.meshgrid: in an upcoming release, it will be required to pass the indexing argument. (Triggered internally at  /opt/conda/conda-bld/pytorch_1646755903507/work/aten/src/ATen/native/TensorShape.cpp:2228.)\n",
      "  return _VF.meshgrid(tensors, **kwargs)  # type: ignore[attr-defined]\n"
     ]
    }
   ],
   "source": [
    "outputs = decode_outputs(outputs, dtype=outputs.type())"
   ]
  },
  {
   "cell_type": "code",
   "execution_count": 9,
   "metadata": {},
   "outputs": [],
   "source": [
    "def postprocess(prediction, num_classes, conf_thre=0.7, nms_thre=0.45):\n",
    "    box_corner = prediction.new(prediction.shape)\n",
    "    box_corner[:, :, 0] = prediction[:, :, 0] - prediction[:, :, 2] / 2\n",
    "    box_corner[:, :, 1] = prediction[:, :, 1] - prediction[:, :, 3] / 2\n",
    "    box_corner[:, :, 2] = prediction[:, :, 0] + prediction[:, :, 2] / 2\n",
    "    box_corner[:, :, 3] = prediction[:, :, 1] + prediction[:, :, 3] / 2\n",
    "    prediction[:, :, :4] = box_corner[:, :, :4]\n",
    "\n",
    "    output = [None for _ in range(len(prediction))]\n",
    "    for i, image_pred in enumerate(prediction):\n",
    "\n",
    "        # If none are remaining => process next image\n",
    "        if not image_pred.size(0):\n",
    "            continue\n",
    "        # Get score and class with highest confidence\n",
    "        class_conf, class_pred = torch.max(\n",
    "            image_pred[:, 5 : 5 + num_classes], 1, keepdim=True\n",
    "        )\n",
    "\n",
    "        conf_mask = (image_pred[:, 4] * class_conf.squeeze() >= conf_thre).squeeze()\n",
    "        # _, conf_mask = torch.topk((image_pred[:, 4] * class_conf.squeeze()), 1000)\n",
    "        # Detections ordered as (x1, y1, x2, y2, obj_conf, class_conf, class_pred)\n",
    "        detections = torch.cat((image_pred[:, :5], class_conf, class_pred.float()), 1)\n",
    "        detections = detections[conf_mask]\n",
    "        if not detections.size(0):\n",
    "            continue\n",
    "        # import pdb; pdb.set_trace()\n",
    "        if detections.shape[1] == 1:\n",
    "            detections = detections.squeeze(0)\n",
    "        try:\n",
    "            nms_out_index = torchvision.ops.batched_nms(\n",
    "                detections[:, :4],\n",
    "                detections[:, 4] * detections[:, 5],\n",
    "                detections[:, 6],\n",
    "                nms_thre\n",
    "            )\n",
    "        except:\n",
    "            #print(\"pdb should be uploaded\")\n",
    "            import pdb; pdb.set_trace()\n",
    "        detections = detections[nms_out_index]\n",
    "        if output[i] is None:\n",
    "            output[i] = detections\n",
    "        else:\n",
    "            output[i] = torch.cat((output[i], detections))\n",
    "\n",
    "    return output"
   ]
  },
  {
   "cell_type": "code",
   "execution_count": 10,
   "metadata": {},
   "outputs": [
    {
     "name": "stdout",
     "output_type": "stream",
     "text": [
      "torch.Size([8, 7])\n",
      "tensor([[192.0702,  31.2105, 328.1173, 393.1645,   0.9985,   0.9805,   0.0000],\n",
      "        [ 26.8002,  26.0286, 146.0435, 388.6902,   0.9966,   0.9814,   0.0000],\n",
      "        [ 16.3157, 409.7150, 127.1375, 798.0350,   0.9990,   0.9790,   0.0000],\n",
      "        [196.9685, 414.3482, 330.9065, 795.9019,   0.9980,   0.9795,   0.0000],\n",
      "        [391.8076,  14.7951, 505.0361, 394.8612,   0.9990,   0.9785,   0.0000],\n",
      "        [386.4258, 419.2980, 487.8242, 795.6707,   0.9995,   0.9766,   0.0000],\n",
      "        [577.7744,  21.5551, 681.8818, 388.4917,   0.9985,   0.9766,   0.0000],\n",
      "        [554.2709, 404.1043, 687.1666, 800.0832,   0.9990,   0.9707,   0.0000]],\n",
      "       device='cuda:0')\n"
     ]
    }
   ],
   "source": [
    "outputss = postprocess(outputs, 1, 0.1, 0.7)\n",
    "print(outputss[0].shape)\n",
    "print(outputss[0])"
   ]
  },
  {
   "cell_type": "code",
   "execution_count": 12,
   "metadata": {},
   "outputs": [],
   "source": [
    "from trackers.ocsort_tracker.ocsort import OCSort\n",
    "tracker = OCSort(det_thresh=0.6, iou_threshold=0.3, use_byte=False)\n",
    "online_targets = tracker.update(outputs[0], [521, 464], (800, 1440))"
   ]
  },
  {
   "cell_type": "code",
   "execution_count": 13,
   "metadata": {},
   "outputs": [
    {
     "name": "stdout",
     "output_type": "stream",
     "text": [
      "[[361.13537592 262.59521416 448.02239996 520.98065253  72.        ]\n",
      " [127.86682086 269.82388135 215.60650678 518.31073169  71.        ]\n",
      " [127.67675028 269.88314796 215.58795156 517.88513207  70.        ]\n",
      " [127.90154342 269.68142866 215.47001572 518.16827227  69.        ]\n",
      " [361.104248   263.17294248 447.48367314 521.05419985  68.        ]\n",
      " [360.96893238 263.17294045 447.51721264 521.05420188  67.        ]\n",
      " [361.15210011 263.08136086 447.70037792 520.96258446  66.        ]\n",
      " [251.66154502 272.96609531 317.63272072 518.07879605  65.        ]\n",
      " [251.59877053 273.18994234 317.63442955 518.30267241  64.        ]\n",
      " [251.33541891 273.2561038  317.69427469 518.36883517  63.        ]\n",
      " [128.14157025 270.09682952 215.45385822 518.09881868  62.        ]\n",
      " [128.10400439 270.12735072 215.50160169 518.12933262  61.        ]\n",
      " [128.27575737 269.84423929 215.5028376  518.33105368  60.        ]\n",
      " [ 10.73242302 266.51147144  82.90511589 519.40484936  59.        ]\n",
      " [ 10.81046959 266.60306056  82.84233574 519.49639622  58.        ]\n",
      " [ 10.49426134 266.82690239  82.87870734 519.72027779  57.        ]\n",
      " [361.4595644  263.27468879 447.25045757 521.15594475  56.        ]\n",
      " [361.17324748 263.40414138 447.38415608 520.78222947  55.        ]\n",
      " [361.40490767 263.38378987 447.44760088 520.76190104  54.        ]\n",
      " [251.8378298  272.80789214 317.68029764 518.39977998  53.        ]\n",
      " [251.65983614 273.06784127 317.69549528 518.1805413   52.        ]\n",
      " [251.52226299 272.83844098 317.75164753 518.43029681  51.        ]\n",
      " [128.01751757 270.24948207 215.41511487 518.25146397  50.        ]\n",
      " [128.11418217 269.89514297 215.51177913 518.38195664  49.        ]\n",
      " [128.4219063  270.3105181  215.47880476 518.31249826  48.        ]\n",
      " [ 10.74328238 266.63357517  83.05707925 519.52691678  47.        ]\n",
      " [ 10.62557716 266.82690113  82.79827003 519.72027905  46.        ]\n",
      " [ 10.44818503 266.84725925  82.7619819  519.74060086  45.        ]\n",
      " [361.22415257 263.0429406  447.43502712 521.42840339  44.        ]\n",
      " [361.6109613  263.00225597 447.4857489  521.38769765  43.        ]\n",
      " [251.77175939 272.7773751  317.80740321 518.36926187  42.        ]\n",
      " [251.53424119 272.94018678 317.69897414 518.53204223  41.        ]\n",
      " [251.66827425 272.47625804 317.76843229 518.54827809  40.        ]\n",
      " [ 10.65646352 266.68445071  82.89967166 519.57781736  39.        ]\n",
      " [ 10.45549191 266.72516116  82.69870006 519.61852781  38.        ]\n",
      " [  9.99148537 266.80655111  82.73023056 519.69994913  37.        ]\n",
      " [376.35687271  13.82963185 443.89251693 253.2642631   36.        ]\n",
      " [376.21194453  13.7482255  443.81356816 253.18285818  35.        ]\n",
      " [376.21707196  13.72787481 443.95089679 253.16250414  34.        ]\n",
      " [255.2414096    9.66581015 328.90948456 257.18390604  33.        ]\n",
      " [255.11894324   9.56405441 328.85897729 257.08211525  32.        ]\n",
      " [255.28753651   9.94798764 328.88372814 256.98313037  31.        ]\n",
      " [125.16197269  20.63721016 213.58978207 255.89982674  30.        ]\n",
      " [125.03991007  20.6168589  213.64060903 255.87949043  29.        ]\n",
      " [125.14675864  20.33600842 213.74745218 256.05856098  28.        ]\n",
      " [ 17.4813873   16.54723456  95.06275257 253.19238565  27.        ]\n",
      " [ 17.34172889  16.73039784  94.99890069 253.37555157  26.        ]\n",
      " [ 17.54244041  17.3377814   95.12380791 253.52116254  25.        ]\n",
      " [376.19671673  13.81945711 443.93054157 253.25408644  24.        ]\n",
      " [376.27557391  14.03778853 444.07556134 253.005226    23.        ]\n",
      " [375.8626714   14.00726253 444.06106517 252.97471303  22.        ]\n",
      " [255.20542931   9.81061584 328.94546485 256.84574098  21.        ]\n",
      " [255.16473302   9.63527912 328.9047555  257.15335232  20.        ]\n",
      " [255.20613062   9.55387422 328.80230749 257.07195929  19.        ]\n",
      " [125.01447304  20.24442834 213.61517326 255.96696311  18.        ]\n",
      " [125.06014965  20.34618385 213.83406117 256.06872169  17.        ]\n",
      " [125.08570106  20.32583398 213.68640129 256.04836875  16.        ]\n",
      " [ 17.33432047  16.77811503  95.0673519  252.96149373  15.        ]\n",
      " [ 17.45366069  16.95110188  95.1108344  253.13448467  14.        ]\n",
      " [ 17.54244041  17.00706813  95.12380791 253.19044926  13.        ]\n",
      " [376.26794476  13.8092814  444.00176959 253.24391074  12.        ]\n",
      " [376.1863103   13.80928159 444.18518018 253.24391054  11.        ]\n",
      " [375.79159561  13.82963184 444.45776352 253.26426312  10.        ]\n",
      " [255.19595326   9.62236317 328.79214489 256.65750591   9.        ]\n",
      " [255.10368257   9.66306335 328.84372038 256.69818086   8.        ]\n",
      " [255.32823229   9.3808891  328.92440748 256.89895327   7.        ]\n",
      " [124.85166095  20.39298958 213.45236279 255.65561348   6.        ]\n",
      " [124.98383435  20.4336971  213.75775042 255.6963116    5.        ]\n",
      " [124.89196697  20.20372317 213.83943257 255.92627789   4.        ]\n",
      " [ 17.25833158  16.83916889  95.14334842 253.02254833   3.        ]\n",
      " [ 17.45366069  16.92057476  95.1108344  253.10395756   2.        ]\n",
      " [ 17.69662027  17.04268201  95.05103751 253.22606723   1.        ]]\n"
     ]
    }
   ],
   "source": [
    "print(online_targets)"
   ]
  },
  {
   "cell_type": "code",
   "execution_count": 14,
   "metadata": {},
   "outputs": [],
   "source": [
    "def get_color(idx):\n",
    "    idx = idx * 3\n",
    "    color = ((37 * idx) % 255, (17 * idx) % 255, (29 * idx) % 255)\n",
    "\n",
    "    return color\n",
    "\n",
    "def plot_tracking(image, tlwhs, obj_ids, scores=None, frame_id=0, fps=0., ids2=None):\n",
    "    # 이미 preproc에서 하므로 필요 없음\n",
    "    #im = np.ascontiguousarray(np.copy(image))\n",
    "    im = image\n",
    "    im_h, im_w = im.shape[:2]\n",
    "\n",
    "    top_view = np.zeros([im_w, im_w, 3], dtype=np.uint8) + 255\n",
    "\n",
    "    #text_scale = max(1, image.shape[1] / 1600.)\n",
    "    #text_thickness = 2\n",
    "    #line_thickness = max(1, int(image.shape[1] / 500.))\n",
    "    text_scale = 2\n",
    "    text_thickness = 2\n",
    "    line_thickness = 3\n",
    "\n",
    "    radius = max(5, int(im_w/140.))\n",
    "    cv2.putText(im, 'frame: %d fps: %.2f num: %d' % (frame_id, fps, len(tlwhs)),\n",
    "                (0, int(15 * text_scale)), cv2.FONT_HERSHEY_PLAIN, 2, (0, 0, 255), thickness=2)\n",
    "\n",
    "    for i, tlwh in enumerate(tlwhs):\n",
    "        x1, y1, w, h = tlwh\n",
    "        intbox = tuple(map(int, (x1, y1, x1 + w, y1 + h)))\n",
    "        \n",
    "        # median filter\n",
    "        \"\"\"\n",
    "        distance = []\n",
    "        kernel = 5\n",
    "        for dx in range(-kernel, kernel+1):\n",
    "            for dy in range(-kernel, kernel+1):\n",
    "                x = cx + dx\n",
    "                y = cy + dy\n",
    "                if (x <0) or (y<0):\n",
    "                    continue\n",
    "                depth_value = depthimg[x,y]\n",
    "\n",
    "                distance.append(depth_value)\n",
    "        distance.sort()\n",
    "        depth = distance[len(distance)//2]\n",
    "        \"\"\"\n",
    "        \n",
    "        obj_id = int(obj_ids[i])\n",
    "        id_text = '{}'.format(int(obj_id))\n",
    "        if ids2 is not None:\n",
    "            id_text = id_text + ', {}'.format(int(ids2[i]))\n",
    "        color = get_color(abs(obj_id))\n",
    "        cv2.rectangle(im, intbox[0:2], intbox[2:4], color=color, thickness=line_thickness)\n",
    "        cv2.putText(im, id_text, (intbox[0], intbox[1]), cv2.FONT_HERSHEY_PLAIN, text_scale, (0, 0, 255),\n",
    "                    thickness=text_thickness)\n",
    "    return im"
   ]
  },
  {
   "cell_type": "code",
   "execution_count": 19,
   "metadata": {},
   "outputs": [
    {
     "name": "stdout",
     "output_type": "stream",
     "text": [
      "72\n"
     ]
    }
   ],
   "source": [
    "online_tlwhs = []\n",
    "online_ids = []\n",
    "results = []\n",
    "frame_id = 0\n",
    "for t in online_targets:\n",
    "    tlwh = [t[0], t[1], t[2] - t[0], t[3] - t[1]]\n",
    "    tid = t[4]\n",
    "    vertical = tlwh[2] / tlwh[3] > 1.6 # threshold for filtering out boxes of which aspect ratio are above the given value\n",
    "    if tlwh[2] * tlwh[3] > 10 and not vertical: # 10: filter out tiny boxes\n",
    "        online_tlwhs.append(tlwh)\n",
    "        online_ids.append(tid)\n",
    "        results.append(\n",
    "            f\"{frame_id},{tid},{tlwh[0]:.2f},{tlwh[1]:.2f},{tlwh[2]:.2f},{tlwh[3]:.2f},1.0,-1,-1,-1\\n\"\n",
    "        )\n",
    "print(len(results))\n",
    "online_im = plot_tracking(\n",
    "    x1, online_tlwhs, online_ids, frame_id=frame_id + 1, fps=0\n",
    ")"
   ]
  },
  {
   "cell_type": "code",
   "execution_count": 21,
   "metadata": {},
   "outputs": [
    {
     "data": {
      "text/plain": [
       "<matplotlib.image.AxesImage at 0x7f15fe4431f0>"
      ]
     },
     "execution_count": 21,
     "metadata": {},
     "output_type": "execute_result"
    },
    {
     "data": {
      "image/png": "[encoded data removed]",
      "text/plain": [
       "<Figure size 432x288 with 1 Axes>"
      ]
     },
     "metadata": {
      "needs_background": "light"
     },
     "output_type": "display_data"
    }
   ],
   "source": [
    "from matplotlib import pyplot as plt\n",
    "\n",
    "plt.imshow(online_im)"
   ]
  }
 ],
 "metadata": {
  "kernelspec": {
   "display_name": "Python 3.8.13 ('ocsort')",
   "language": "python",
   "name": "python3"
  },
  "language_info": {
   "codemirror_mode": {
    "name": "ipython",
    "version": 3
   },
   "file_extension": ".py",
   "mimetype": "text/x-python",
   "name": "python",
   "nbconvert_exporter": "python",
   "pygments_lexer": "ipython3",
   "version": "3.8.13"
  },
  "orig_nbformat": 4,
  "vscode": {
   "interpreter": {
    "hash": "58b5af387b408301e40b17abed398f3fe69be9f57d3886029e3eb73eb8d2220d"
   }
  }
 },
 "nbformat": 4,
 "nbformat_minor": 2
}
